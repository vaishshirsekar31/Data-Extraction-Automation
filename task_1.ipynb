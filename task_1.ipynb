{
  "cells": [
    {
      "cell_type": "markdown",
      "metadata": {
        "id": "d-s2_0gD-Yth"
      },
      "source": [
        "#  Step 1: Install the required packages\n"
      ]
    },
    {
      "cell_type": "code",
      "execution_count": 6,
      "metadata": {},
      "outputs": [
        {
          "name": "stdout",
          "output_type": "stream",
          "text": [
            "Requirement already satisfied: kaggle in /usr/local/python/3.10.8/lib/python3.10/site-packages (1.5.16)\n",
            "Requirement already satisfied: six>=1.10 in /home/codespace/.local/lib/python3.10/site-packages (from kaggle) (1.16.0)\n",
            "Requirement already satisfied: certifi in /home/codespace/.local/lib/python3.10/site-packages (from kaggle) (2023.7.22)\n",
            "Requirement already satisfied: python-dateutil in /home/codespace/.local/lib/python3.10/site-packages (from kaggle) (2.8.2)\n",
            "Requirement already satisfied: requests in /home/codespace/.local/lib/python3.10/site-packages (from kaggle) (2.31.0)\n",
            "Requirement already satisfied: tqdm in /usr/local/python/3.10.8/lib/python3.10/site-packages (from kaggle) (4.66.1)\n",
            "Requirement already satisfied: python-slugify in /usr/local/python/3.10.8/lib/python3.10/site-packages (from kaggle) (8.0.1)\n",
            "Requirement already satisfied: urllib3 in /home/codespace/.local/lib/python3.10/site-packages (from kaggle) (2.0.4)\n",
            "Requirement already satisfied: bleach in /home/codespace/.local/lib/python3.10/site-packages (from kaggle) (6.0.0)\n",
            "Requirement already satisfied: webencodings in /home/codespace/.local/lib/python3.10/site-packages (from bleach->kaggle) (0.5.1)\n",
            "Requirement already satisfied: text-unidecode>=1.3 in /usr/local/python/3.10.8/lib/python3.10/site-packages (from python-slugify->kaggle) (1.3)\n",
            "Requirement already satisfied: charset-normalizer<4,>=2 in /home/codespace/.local/lib/python3.10/site-packages (from requests->kaggle) (3.2.0)\n",
            "Requirement already satisfied: idna<4,>=2.5 in /home/codespace/.local/lib/python3.10/site-packages (from requests->kaggle) (3.4)\n"
          ]
        }
      ],
      "source": [
        "!pip install kaggle"
      ]
    },
    {
      "cell_type": "code",
      "execution_count": 7,
      "metadata": {
        "id": "oxMCmdS--Yti"
      },
      "outputs": [],
      "source": [
        "\n",
        "import os\n",
        "import json\n",
        "import pandas as pd"
      ]
    },
    {
      "cell_type": "markdown",
      "metadata": {
        "id": "T2e6ifk6-Yti"
      },
      "source": [
        "# Step 2 Read the kaggle.json file\n",
        "This file contains the username and key required to access the kaggle api\n",
        "You can download this file from your kaggle account\n"
      ]
    },
    {
      "cell_type": "code",
      "execution_count": 8,
      "metadata": {
        "id": "48_zIyTt-Ytj"
      },
      "outputs": [],
      "source": [
        "file_path = ''\n",
        "with open(file_path, 'r') as f:\n",
        "    keys = json.load(f)"
      ]
    },
    {
      "cell_type": "markdown",
      "metadata": {
        "id": "HCFccLZO-Ytj"
      },
      "source": [
        "# Step 3: Set the environment variables\n",
        "- In this step, we set environment variables like os.environ['KAGGLE_USERNAME'] to store your Kaggle username, and os.environ['KAGGLE_KEY'] to store your Kaggle API key. The Kaggle API key is used to authenticate your requests to Kaggle.\n"
      ]
    },
    {
      "cell_type": "code",
      "execution_count": 9,
      "metadata": {
        "id": "3d4MC8Jh-Ytj"
      },
      "outputs": [],
      "source": [
        "os.environ['KAGGLE_USERNAME'] = keys['username']\n",
        "os.environ['KAGGLE_KEY'] = keys['key']\n"
      ]
    },
    {
      "cell_type": "markdown",
      "metadata": {
        "id": "hNX1-99U-Ytj"
      },
      "source": [
        "# Step 4: Download the dataset\n",
        "\n",
        "- The KaggleApi object is used to download files, and you can specify the path where you want to store the zipped list of repositories by changing the path parameter in the api.dataset_download_files() function. \n"
      ]
    },
    {
      "cell_type": "code",
      "execution_count": 10,
      "metadata": {
        "id": "WogbhDaK-Ytj"
      },
      "outputs": [],
      "source": [
        "\n",
        "from kaggle.api.kaggle_api_extended import KaggleApi\n",
        "api = KaggleApi()\n",
        "api.authenticate()\n",
        "# save path is the path where you want to download the data\n",
        "save_path = '.'\n",
        "api.dataset_download_files('parulpandey/most-starred-github-repositories', path=save_path, unzip=True)\n"
      ]
    },
    {
      "cell_type": "markdown",
      "metadata": {},
      "source": [
        "# Step 5: Extract the required columns from the dataset"
      ]
    },
    {
      "cell_type": "code",
      "execution_count": 12,
      "metadata": {
        "id": "rcsIyCbT-Ytj"
      },
      "outputs": [],
      "source": [
        "\n",
        "# Specify the filename for the unzipped file in the data folder\n",
        "filename = \"data/Most starred Github Repositories.csv\"\n",
        "\n",
        "# Check if the file exists and rename it if needed\n",
        "if not os.path.isfile(filename):\n",
        "    # Rename the file to repositories.csv\n",
        "    os.rename(\"data/repositories.csv\", filename)\n",
        "\n",
        "# Step 7: Create a new dataframe with only the username and repo_name columns\n",
        "repo_df = None\n",
        "# Step 8: Save the dataframe to a csv file called repo_list.csv\n",
        "\n",
        "\n",
        "\n"
      ]
    },
    {
      "cell_type": "markdown",
      "metadata": {},
      "source": [
        "# Step 6: Now go back to the instructions and obtain a GITHUB API token from  GITHUB to complete the the upcoming tasks. "
      ]
    },
    {
      "cell_type": "markdown",
      "metadata": {},
      "source": [
        "# Step 7: Follow the instructions below to successfully request the issues of a repository using the graphql query file and Github's API\n",
        "\n",
        "- To securely store sensitive information like API tokens, you can create a '.env' file.\n",
        "- Here are the steps to create and configure it:\n",
        "1. Create a file named '.env' in your project directory if it doesn't exist.\n",
        "2. Open the '.env' file in a text editor.\n",
        "3. Add your sensitive information in the following format:\n",
        "   ``GITHUB_TOKEN=your-github-token-here``\n",
        "Add more variables as needed\n",
        "\n",
        "- Note: Make sure not to share or commit the '.env' file to git. \n",
        "- You should add '.env' to your .gitignore file to prevent accidental sharing. ( just copy paste the .env file path in the .gitignore file to add it to the list of files to be ignored by git)\n",
        "\n",
        "- In case you misplace your token, you can regenerate a new one from GitHub:\n",
        "- 1. Go to your GitHub account settings.\n",
        "- 2. Under Developer settings, create a new Personal Access Token.\n",
        "- 3. Update the 'GITHUB_TOKEN' value in your '.env' file with the new token.\n",
        "\n",
        "- After configuring your '.env' file, you can access your sensitive information in your code through python-dotenv and ``os.environ``.\n",
        "- using libraries like python-decouple or python-dotenv."
      ]
    },
    {
      "cell_type": "code",
      "execution_count": 14,
      "metadata": {
        "id": "F3DAN2QfWRtd"
      },
      "outputs": [],
      "source": [
        "# Create a function to obtain a random username and repo name from the dataframe\n",
        "import random\n",
        "\n",
        "def get_random_repo():\n",
        "    '''\n",
        "    Returns a random username and repo name from the dataframe\n",
        "    '''\n",
        "    # The function must randomly select a row from the dataframe\n",
        "    # and return the username and repo name as a tuple\n",
        "    # username and repo_name individually are not random\n",
        "\n",
        "    return username, repo_name"
      ]
    },
    {
      "cell_type": "code",
      "execution_count": 16,
      "metadata": {},
      "outputs": [],
      "source": [
        "# Create a function to obtain the query.graphql file\n",
        "# This function must return the query from the query.graphql file as a string\n",
        "# query.graphql file is in the same folder as this notebook\n",
        "\n",
        "def get_query():\n",
        "    # Enter code here\n",
        "    return query "
      ]
    },
    {
      "cell_type": "code",
      "execution_count": null,
      "metadata": {},
      "outputs": [],
      "source": [
        "#  Get Data from Github API\n",
        "import requests\n",
        "\n",
        "def headers(token):\n",
        "    headers = {\n",
        "    'Content-Type': 'application/x-www-form-urlencoded',\n",
        "    'Authorization': f\"bearer {str(token)}\",\n",
        "    'Accept': 'application/vnd.github.v3+json' \n",
        "    }\n",
        "    return headers\n",
        "\n",
        "\n",
        "owner, repo = # call the get_random_repo function here.\n",
        "token =  \"YOUR GITHUB TOKEN HERE \" # you need to use os.environ to access the token from the environment variable\n",
        "# REMEMBER TO REMOVE YOUR TOKEN BEFORE SUBMITTING\n",
        "\n",
        "header = # call the headers function here.\n",
        "query = # call the get_query function here.\n",
        "# Look at the query file to see what parameters are required\n",
        "# In graphQL, mandatory parameters are denoted by a ! after the parameter's data type\n",
        "params = {\"owner\": owner }\n",
        "response = requests.post('https://api.github.com/graphql', json = {'query': query, 'variables':params}, headers = header)"
      ]
    },
    {
      "cell_type": "code",
      "execution_count": 23,
      "metadata": {},
      "outputs": [
        {
          "data": {
            "text/plain": [
              "200"
            ]
          },
          "execution_count": 23,
          "metadata": {},
          "output_type": "execute_result"
        }
      ],
      "source": [
        "# Check if the response is successful\n",
        "response.status_code"
      ]
    },
    {
      "cell_type": "code",
      "execution_count": null,
      "metadata": {},
      "outputs": [],
      "source": [
        "# Check the response content\n",
        "response.json()"
      ]
    },
    {
      "cell_type": "code",
      "execution_count": null,
      "metadata": {},
      "outputs": [],
      "source": [
        "# Save the response to a json file in a separate folder called processed_data\n",
        "# The json file should be named as the username_repo.json\n"
      ]
    }
  ],
  "metadata": {
    "colab": {
      "provenance": []
    },
    "kernelspec": {
      "display_name": "Assignment-1-gXjE2Zjf",
      "language": "python",
      "name": "python3"
    },
    "language_info": {
      "codemirror_mode": {
        "name": "ipython",
        "version": 3
      },
      "file_extension": ".py",
      "mimetype": "text/x-python",
      "name": "python",
      "nbconvert_exporter": "python",
      "pygments_lexer": "ipython3",
      "version": "3.10.8"
    },
    "orig_nbformat": 4
  },
  "nbformat": 4,
  "nbformat_minor": 0
}
